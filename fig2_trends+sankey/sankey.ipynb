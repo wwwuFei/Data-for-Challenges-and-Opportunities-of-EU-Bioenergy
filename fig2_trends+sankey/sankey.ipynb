{
 "cells": [
  {
   "cell_type": "code",
   "execution_count": 1,
   "metadata": {},
   "outputs": [],
   "source": [
    "import pandas as pd\n",
    "import matplotlib.pyplot as plt\n",
    "import seaborn as sns\n",
    "\n",
    "%matplotlib inline"
   ]
  },
  {
   "cell_type": "code",
   "execution_count": 2,
   "metadata": {},
   "outputs": [
    {
     "data": {
      "text/html": "<div>\n<style scoped>\n    .dataframe tbody tr th:only-of-type {\n        vertical-align: middle;\n    }\n\n    .dataframe tbody tr th {\n        vertical-align: top;\n    }\n\n    .dataframe thead th {\n        text-align: right;\n    }\n</style>\n<table border=\"1\" class=\"dataframe\">\n  <thead>\n    <tr style=\"text-align: right;\">\n      <th></th>\n      <th>MEASURE</th>\n      <th>Unit</th>\n      <th>COUNTRY</th>\n      <th>Country</th>\n      <th>PRODUCT</th>\n      <th>Product</th>\n      <th>FLOW</th>\n      <th>Flow</th>\n      <th>TIME</th>\n      <th>Time</th>\n      <th>Value</th>\n      <th>Flag Codes</th>\n      <th>Flags</th>\n    </tr>\n  </thead>\n  <tbody>\n    <tr>\n      <th>0</th>\n      <td>TJ</td>\n      <td>TJ</td>\n      <td>EU28</td>\n      <td>Memo: European Union-28</td>\n      <td>BIOJETKERO</td>\n      <td>Bio jet kerosene</td>\n      <td>EXPORTS</td>\n      <td>Exports</td>\n      <td>2000</td>\n      <td>2000</td>\n      <td>0.0</td>\n      <td>NaN</td>\n      <td>NaN</td>\n    </tr>\n    <tr>\n      <th>1</th>\n      <td>TJ</td>\n      <td>TJ</td>\n      <td>EU28</td>\n      <td>Memo: European Union-28</td>\n      <td>BIOJETKERO</td>\n      <td>Bio jet kerosene</td>\n      <td>TES</td>\n      <td>Total energy supply</td>\n      <td>2000</td>\n      <td>2000</td>\n      <td>0.0</td>\n      <td>NaN</td>\n      <td>NaN</td>\n    </tr>\n    <tr>\n      <th>2</th>\n      <td>TJ</td>\n      <td>TJ</td>\n      <td>EU28</td>\n      <td>Memo: European Union-28</td>\n      <td>BIOJETKERO</td>\n      <td>Bio jet kerosene</td>\n      <td>TOTTRANF</td>\n      <td>Transformation processes</td>\n      <td>2000</td>\n      <td>2000</td>\n      <td>0.0</td>\n      <td>NaN</td>\n      <td>NaN</td>\n    </tr>\n    <tr>\n      <th>3</th>\n      <td>TJ</td>\n      <td>TJ</td>\n      <td>EU28</td>\n      <td>Memo: European Union-28</td>\n      <td>BIOJETKERO</td>\n      <td>Bio jet kerosene</td>\n      <td>TOTENGY</td>\n      <td>Energy industry own use</td>\n      <td>2000</td>\n      <td>2000</td>\n      <td>0.0</td>\n      <td>NaN</td>\n      <td>NaN</td>\n    </tr>\n    <tr>\n      <th>4</th>\n      <td>TJ</td>\n      <td>TJ</td>\n      <td>EU28</td>\n      <td>Memo: European Union-28</td>\n      <td>BIOJETKERO</td>\n      <td>Bio jet kerosene</td>\n      <td>TOTIND</td>\n      <td>Industry</td>\n      <td>2000</td>\n      <td>2000</td>\n      <td>0.0</td>\n      <td>NaN</td>\n      <td>NaN</td>\n    </tr>\n    <tr>\n      <th>...</th>\n      <td>...</td>\n      <td>...</td>\n      <td>...</td>\n      <td>...</td>\n      <td>...</td>\n      <td>...</td>\n      <td>...</td>\n      <td>...</td>\n      <td>...</td>\n      <td>...</td>\n      <td>...</td>\n      <td>...</td>\n      <td>...</td>\n    </tr>\n    <tr>\n      <th>2767</th>\n      <td>TJ</td>\n      <td>TJ</td>\n      <td>EU28</td>\n      <td>Memo: European Union-28</td>\n      <td>PRIMSBIO</td>\n      <td>Primary solid biofuels</td>\n      <td>COMMPUB</td>\n      <td>Commercial and public services</td>\n      <td>2020</td>\n      <td>2020</td>\n      <td>NaN</td>\n      <td>L</td>\n      <td>Missing value; data exist but were not collected</td>\n    </tr>\n    <tr>\n      <th>2768</th>\n      <td>TJ</td>\n      <td>TJ</td>\n      <td>EU28</td>\n      <td>Memo: European Union-28</td>\n      <td>PRIMSBIO</td>\n      <td>Primary solid biofuels</td>\n      <td>AGRICULT</td>\n      <td>Agriculture/forestry</td>\n      <td>2020</td>\n      <td>2020</td>\n      <td>NaN</td>\n      <td>L</td>\n      <td>Missing value; data exist but were not collected</td>\n    </tr>\n    <tr>\n      <th>2769</th>\n      <td>TJ</td>\n      <td>TJ</td>\n      <td>EU28</td>\n      <td>Memo: European Union-28</td>\n      <td>PRIMSBIO</td>\n      <td>Primary solid biofuels</td>\n      <td>FISHING</td>\n      <td>Fishing</td>\n      <td>2020</td>\n      <td>2020</td>\n      <td>NaN</td>\n      <td>L</td>\n      <td>Missing value; data exist but were not collected</td>\n    </tr>\n    <tr>\n      <th>2770</th>\n      <td>TJ</td>\n      <td>TJ</td>\n      <td>EU28</td>\n      <td>Memo: European Union-28</td>\n      <td>PRIMSBIO</td>\n      <td>Primary solid biofuels</td>\n      <td>ONONSPEC</td>\n      <td>Final consumption not elsewhere specified</td>\n      <td>2020</td>\n      <td>2020</td>\n      <td>NaN</td>\n      <td>L</td>\n      <td>Missing value; data exist but were not collected</td>\n    </tr>\n    <tr>\n      <th>2771</th>\n      <td>TJ</td>\n      <td>TJ</td>\n      <td>EU28</td>\n      <td>Memo: European Union-28</td>\n      <td>PRIMSBIO</td>\n      <td>Primary solid biofuels</td>\n      <td>NONENUSE</td>\n      <td>Non-energy use</td>\n      <td>2020</td>\n      <td>2020</td>\n      <td>NaN</td>\n      <td>L</td>\n      <td>Missing value; data exist but were not collected</td>\n    </tr>\n  </tbody>\n</table>\n<p>2772 rows × 13 columns</p>\n</div>",
      "text/plain": "     MEASURE Unit COUNTRY                  Country     PRODUCT  \\\n0         TJ   TJ    EU28  Memo: European Union-28  BIOJETKERO   \n1         TJ   TJ    EU28  Memo: European Union-28  BIOJETKERO   \n2         TJ   TJ    EU28  Memo: European Union-28  BIOJETKERO   \n3         TJ   TJ    EU28  Memo: European Union-28  BIOJETKERO   \n4         TJ   TJ    EU28  Memo: European Union-28  BIOJETKERO   \n...      ...  ...     ...                      ...         ...   \n2767      TJ   TJ    EU28  Memo: European Union-28    PRIMSBIO   \n2768      TJ   TJ    EU28  Memo: European Union-28    PRIMSBIO   \n2769      TJ   TJ    EU28  Memo: European Union-28    PRIMSBIO   \n2770      TJ   TJ    EU28  Memo: European Union-28    PRIMSBIO   \n2771      TJ   TJ    EU28  Memo: European Union-28    PRIMSBIO   \n\n                     Product      FLOW  \\\n0           Bio jet kerosene   EXPORTS   \n1           Bio jet kerosene       TES   \n2           Bio jet kerosene  TOTTRANF   \n3           Bio jet kerosene   TOTENGY   \n4           Bio jet kerosene    TOTIND   \n...                      ...       ...   \n2767  Primary solid biofuels   COMMPUB   \n2768  Primary solid biofuels  AGRICULT   \n2769  Primary solid biofuels   FISHING   \n2770  Primary solid biofuels  ONONSPEC   \n2771  Primary solid biofuels  NONENUSE   \n\n                                           Flow  TIME  Time  Value Flag Codes  \\\n0                                       Exports  2000  2000    0.0        NaN   \n1                           Total energy supply  2000  2000    0.0        NaN   \n2                      Transformation processes  2000  2000    0.0        NaN   \n3                       Energy industry own use  2000  2000    0.0        NaN   \n4                                      Industry  2000  2000    0.0        NaN   \n...                                         ...   ...   ...    ...        ...   \n2767             Commercial and public services  2020  2020    NaN          L   \n2768                       Agriculture/forestry  2020  2020    NaN          L   \n2769                                    Fishing  2020  2020    NaN          L   \n2770  Final consumption not elsewhere specified  2020  2020    NaN          L   \n2771                             Non-energy use  2020  2020    NaN          L   \n\n                                                 Flags  \n0                                                  NaN  \n1                                                  NaN  \n2                                                  NaN  \n3                                                  NaN  \n4                                                  NaN  \n...                                                ...  \n2767  Missing value; data exist but were not collected  \n2768  Missing value; data exist but were not collected  \n2769  Missing value; data exist but were not collected  \n2770  Missing value; data exist but were not collected  \n2771  Missing value; data exist but were not collected  \n\n[2772 rows x 13 columns]"
     },
     "execution_count": 2,
     "metadata": {},
     "output_type": "execute_result"
    }
   ],
   "source": [
    "df = pd.read_csv('sankey_raw_iea.csv')\n",
    "df"
   ]
  },
  {
   "cell_type": "code",
   "execution_count": 7,
   "metadata": {},
   "outputs": [
    {
     "ename": "SyntaxError",
     "evalue": "expression cannot contain assignment, perhaps you meant \"==\"? (<ipython-input-7-03f8e5f321a0>, line 1)",
     "output_type": "error",
     "traceback": [
      "\u001b[0;36m  File \u001b[0;32m\"<ipython-input-7-03f8e5f321a0>\"\u001b[0;36m, line \u001b[0;32m1\u001b[0m\n\u001b[0;31m    solid = df.query(df.Product = 'Primary solid biofuels')\u001b[0m\n\u001b[0m                     ^\u001b[0m\n\u001b[0;31mSyntaxError\u001b[0m\u001b[0;31m:\u001b[0m expression cannot contain assignment, perhaps you meant \"==\"?\n"
     ]
    }
   ],
   "source": [
    "solid = df.query(df.Product = 'Primary solid biofuels')\n",
    "solid"
   ]
  }
 ],
 "metadata": {
  "kernelspec": {
   "display_name": "Python 3.9.5 64-bit ('default': conda)",
   "name": "python395jvsc74a57bd0a8e76fc1bb3a146466b516168aa5f10571582da0c13260574329d12e34a70cb3"
  },
  "language_info": {
   "codemirror_mode": {
    "name": "ipython",
    "version": 3
   },
   "file_extension": ".py",
   "mimetype": "text/x-python",
   "name": "python",
   "nbconvert_exporter": "python",
   "pygments_lexer": "ipython3",
   "version": "3.9.5"
  },
  "orig_nbformat": 2
 },
 "nbformat": 4,
 "nbformat_minor": 2
}